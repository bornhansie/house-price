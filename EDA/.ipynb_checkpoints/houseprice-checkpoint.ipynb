{
 "cells": [
  {
   "cell_type": "code",
   "execution_count": 336,
   "metadata": {},
   "outputs": [],
   "source": [
    "import pandas as pd\n",
    "import matplotlib.pyplot as plt\n",
    "import seaborn as sns\n",
    "import numpy as np\n",
    "from sklearn.model_selection import train_test_split\n",
    "from sklearn.linear_model import LinearRegression\n",
    "from sklearn.preprocessing import LabelEncoder, OneHotEncoder\n",
    "from sklearn import metrics\n",
    "import statsmodels.formula.api as sm\n",
    "%matplotlib inline"
   ]
  },
  {
   "cell_type": "code",
   "execution_count": 337,
   "metadata": {},
   "outputs": [],
   "source": [
    "train = pd.read_csv('../../../Data/train.csv')\n",
    "test = pd.read_csv('../../../Data/test.csv')"
   ]
  },
  {
   "cell_type": "code",
   "execution_count": 338,
   "metadata": {},
   "outputs": [],
   "source": [
    "train = train.drop(columns = ['Id'], axis = 1)\n",
    "test = test.drop(columns = ['Id'], axis = 1)"
   ]
  },
  {
   "cell_type": "code",
   "execution_count": 339,
   "metadata": {},
   "outputs": [],
   "source": [
    "train = train[train['GrLivArea']<4500]\n",
    "train['SalePrice'] = np.log1p(train['SalePrice'])\n",
    "ntrain = train.shape[0]\n",
    "ntest = test.shape[0]\n",
    "y_train = train.SalePrice\n",
    "features = pd.concat([train, test], sort = True).reset_index(drop=True)\n",
    "features.drop(['SalePrice'], axis=1, inplace=True)"
   ]
  },
  {
   "cell_type": "code",
   "execution_count": 340,
   "metadata": {},
   "outputs": [],
   "source": [
    "def missing_values(data):\n",
    "    total = data.isnull().sum().sort_values(ascending = False)\n",
    "    percent = (data.isnull().sum()/data.isnull().count()*100).sort_values(ascending = False)\n",
    "    ms = pd.concat([total, percent], axis = 1, keys = ['Total', 'Percent'])\n",
    "    ms = ms[ms['Percent']>0]\n",
    "    return ms"
   ]
  },
  {
   "cell_type": "code",
   "execution_count": 341,
   "metadata": {},
   "outputs": [
    {
     "data": {
      "text/html": [
       "<div>\n",
       "<style scoped>\n",
       "    .dataframe tbody tr th:only-of-type {\n",
       "        vertical-align: middle;\n",
       "    }\n",
       "\n",
       "    .dataframe tbody tr th {\n",
       "        vertical-align: top;\n",
       "    }\n",
       "\n",
       "    .dataframe thead th {\n",
       "        text-align: right;\n",
       "    }\n",
       "</style>\n",
       "<table border=\"1\" class=\"dataframe\">\n",
       "  <thead>\n",
       "    <tr style=\"text-align: right;\">\n",
       "      <th></th>\n",
       "      <th>Total</th>\n",
       "      <th>Percent</th>\n",
       "    </tr>\n",
       "  </thead>\n",
       "  <tbody>\n",
       "    <tr>\n",
       "      <th>PoolQC</th>\n",
       "      <td>2908</td>\n",
       "      <td>99.691464</td>\n",
       "    </tr>\n",
       "    <tr>\n",
       "      <th>MiscFeature</th>\n",
       "      <td>2812</td>\n",
       "      <td>96.400411</td>\n",
       "    </tr>\n",
       "    <tr>\n",
       "      <th>Alley</th>\n",
       "      <td>2719</td>\n",
       "      <td>93.212204</td>\n",
       "    </tr>\n",
       "    <tr>\n",
       "      <th>Fence</th>\n",
       "      <td>2346</td>\n",
       "      <td>80.425094</td>\n",
       "    </tr>\n",
       "    <tr>\n",
       "      <th>FireplaceQu</th>\n",
       "      <td>1420</td>\n",
       "      <td>48.680151</td>\n",
       "    </tr>\n",
       "    <tr>\n",
       "      <th>LotFrontage</th>\n",
       "      <td>486</td>\n",
       "      <td>16.660953</td>\n",
       "    </tr>\n",
       "    <tr>\n",
       "      <th>GarageFinish</th>\n",
       "      <td>159</td>\n",
       "      <td>5.450806</td>\n",
       "    </tr>\n",
       "    <tr>\n",
       "      <th>GarageQual</th>\n",
       "      <td>159</td>\n",
       "      <td>5.450806</td>\n",
       "    </tr>\n",
       "    <tr>\n",
       "      <th>GarageYrBlt</th>\n",
       "      <td>159</td>\n",
       "      <td>5.450806</td>\n",
       "    </tr>\n",
       "    <tr>\n",
       "      <th>GarageCond</th>\n",
       "      <td>159</td>\n",
       "      <td>5.450806</td>\n",
       "    </tr>\n",
       "    <tr>\n",
       "      <th>GarageType</th>\n",
       "      <td>157</td>\n",
       "      <td>5.382242</td>\n",
       "    </tr>\n",
       "    <tr>\n",
       "      <th>BsmtCond</th>\n",
       "      <td>82</td>\n",
       "      <td>2.811107</td>\n",
       "    </tr>\n",
       "    <tr>\n",
       "      <th>BsmtExposure</th>\n",
       "      <td>82</td>\n",
       "      <td>2.811107</td>\n",
       "    </tr>\n",
       "    <tr>\n",
       "      <th>BsmtQual</th>\n",
       "      <td>81</td>\n",
       "      <td>2.776826</td>\n",
       "    </tr>\n",
       "    <tr>\n",
       "      <th>BsmtFinType2</th>\n",
       "      <td>80</td>\n",
       "      <td>2.742544</td>\n",
       "    </tr>\n",
       "    <tr>\n",
       "      <th>BsmtFinType1</th>\n",
       "      <td>79</td>\n",
       "      <td>2.708262</td>\n",
       "    </tr>\n",
       "    <tr>\n",
       "      <th>MasVnrType</th>\n",
       "      <td>24</td>\n",
       "      <td>0.822763</td>\n",
       "    </tr>\n",
       "    <tr>\n",
       "      <th>MasVnrArea</th>\n",
       "      <td>23</td>\n",
       "      <td>0.788481</td>\n",
       "    </tr>\n",
       "    <tr>\n",
       "      <th>MSZoning</th>\n",
       "      <td>4</td>\n",
       "      <td>0.137127</td>\n",
       "    </tr>\n",
       "    <tr>\n",
       "      <th>BsmtHalfBath</th>\n",
       "      <td>2</td>\n",
       "      <td>0.068564</td>\n",
       "    </tr>\n",
       "    <tr>\n",
       "      <th>Utilities</th>\n",
       "      <td>2</td>\n",
       "      <td>0.068564</td>\n",
       "    </tr>\n",
       "    <tr>\n",
       "      <th>Functional</th>\n",
       "      <td>2</td>\n",
       "      <td>0.068564</td>\n",
       "    </tr>\n",
       "    <tr>\n",
       "      <th>BsmtFullBath</th>\n",
       "      <td>2</td>\n",
       "      <td>0.068564</td>\n",
       "    </tr>\n",
       "    <tr>\n",
       "      <th>Electrical</th>\n",
       "      <td>1</td>\n",
       "      <td>0.034282</td>\n",
       "    </tr>\n",
       "    <tr>\n",
       "      <th>Exterior2nd</th>\n",
       "      <td>1</td>\n",
       "      <td>0.034282</td>\n",
       "    </tr>\n",
       "    <tr>\n",
       "      <th>KitchenQual</th>\n",
       "      <td>1</td>\n",
       "      <td>0.034282</td>\n",
       "    </tr>\n",
       "    <tr>\n",
       "      <th>GarageCars</th>\n",
       "      <td>1</td>\n",
       "      <td>0.034282</td>\n",
       "    </tr>\n",
       "    <tr>\n",
       "      <th>Exterior1st</th>\n",
       "      <td>1</td>\n",
       "      <td>0.034282</td>\n",
       "    </tr>\n",
       "    <tr>\n",
       "      <th>GarageArea</th>\n",
       "      <td>1</td>\n",
       "      <td>0.034282</td>\n",
       "    </tr>\n",
       "    <tr>\n",
       "      <th>TotalBsmtSF</th>\n",
       "      <td>1</td>\n",
       "      <td>0.034282</td>\n",
       "    </tr>\n",
       "    <tr>\n",
       "      <th>BsmtUnfSF</th>\n",
       "      <td>1</td>\n",
       "      <td>0.034282</td>\n",
       "    </tr>\n",
       "    <tr>\n",
       "      <th>BsmtFinSF2</th>\n",
       "      <td>1</td>\n",
       "      <td>0.034282</td>\n",
       "    </tr>\n",
       "    <tr>\n",
       "      <th>BsmtFinSF1</th>\n",
       "      <td>1</td>\n",
       "      <td>0.034282</td>\n",
       "    </tr>\n",
       "    <tr>\n",
       "      <th>SaleType</th>\n",
       "      <td>1</td>\n",
       "      <td>0.034282</td>\n",
       "    </tr>\n",
       "  </tbody>\n",
       "</table>\n",
       "</div>"
      ],
      "text/plain": [
       "              Total    Percent\n",
       "PoolQC         2908  99.691464\n",
       "MiscFeature    2812  96.400411\n",
       "Alley          2719  93.212204\n",
       "Fence          2346  80.425094\n",
       "FireplaceQu    1420  48.680151\n",
       "LotFrontage     486  16.660953\n",
       "GarageFinish    159   5.450806\n",
       "GarageQual      159   5.450806\n",
       "GarageYrBlt     159   5.450806\n",
       "GarageCond      159   5.450806\n",
       "GarageType      157   5.382242\n",
       "BsmtCond         82   2.811107\n",
       "BsmtExposure     82   2.811107\n",
       "BsmtQual         81   2.776826\n",
       "BsmtFinType2     80   2.742544\n",
       "BsmtFinType1     79   2.708262\n",
       "MasVnrType       24   0.822763\n",
       "MasVnrArea       23   0.788481\n",
       "MSZoning          4   0.137127\n",
       "BsmtHalfBath      2   0.068564\n",
       "Utilities         2   0.068564\n",
       "Functional        2   0.068564\n",
       "BsmtFullBath      2   0.068564\n",
       "Electrical        1   0.034282\n",
       "Exterior2nd       1   0.034282\n",
       "KitchenQual       1   0.034282\n",
       "GarageCars        1   0.034282\n",
       "Exterior1st       1   0.034282\n",
       "GarageArea        1   0.034282\n",
       "TotalBsmtSF       1   0.034282\n",
       "BsmtUnfSF         1   0.034282\n",
       "BsmtFinSF2        1   0.034282\n",
       "BsmtFinSF1        1   0.034282\n",
       "SaleType          1   0.034282"
      ]
     },
     "execution_count": 341,
     "metadata": {},
     "output_type": "execute_result"
    }
   ],
   "source": [
    "missing_values(features)"
   ]
  },
  {
   "cell_type": "code",
   "execution_count": 342,
   "metadata": {},
   "outputs": [],
   "source": [
    "features = features.dropna(thresh = len(features)*0.70,axis =1)"
   ]
  },
  {
   "cell_type": "code",
   "execution_count": 343,
   "metadata": {},
   "outputs": [],
   "source": [
    "for i in features.select_dtypes(include = np.number):\n",
    "    features[i].fillna(features[i].mean(), inplace = True)"
   ]
  },
  {
   "cell_type": "code",
   "execution_count": 344,
   "metadata": {},
   "outputs": [],
   "source": [
    "for i in features.select_dtypes(include = 'object'):\n",
    "    features[i].fillna(features[i].mode()[0], inplace = True)"
   ]
  },
  {
   "cell_type": "code",
   "execution_count": 345,
   "metadata": {},
   "outputs": [],
   "source": [
    "features['SalePrice'] = y_train"
   ]
  },
  {
   "cell_type": "code",
   "execution_count": 346,
   "metadata": {},
   "outputs": [],
   "source": [
    "corr = features.corr()['SalePrice'][:-1]"
   ]
  },
  {
   "cell_type": "code",
   "execution_count": 347,
   "metadata": {},
   "outputs": [],
   "source": [
    "golden_features = corr[abs(corr)>=0.3].sort_values(ascending = False)"
   ]
  },
  {
   "cell_type": "code",
   "execution_count": 348,
   "metadata": {},
   "outputs": [],
   "source": [
    "features['Haspool'] = features['PoolArea'].apply(lambda x:1 if x>0 else 0)\n",
    "features['HasFireplace'] = features['Fireplaces'].apply(lambda x: 1 if x>0 else 0)\n",
    "features['HasBsmt'] = features['BsmtFinSF1'].apply(lambda x:1 if x>0 else 0)\n",
    "features['HasGarage'] = features['GarageArea'].apply(lambda x: 1 if x>0 else 0)\n",
    "features['HasPool'] = features['PoolArea'].apply(lambda x: 1 if x>0 else 0)\n",
    "features['Has2ndFloor'] = features['2ndFlrSF'].apply(lambda x: 1 if x>0 else 0)"
   ]
  },
  {
   "cell_type": "code",
   "execution_count": 349,
   "metadata": {},
   "outputs": [
    {
     "data": {
      "text/plain": [
       "SalePrice        1.000000\n",
       "OverallQual      0.302483\n",
       "GarageCars       0.276725\n",
       "GrLivArea        0.275293\n",
       "GarageArea       0.264268\n",
       "TotalBsmtSF      0.237815\n",
       "FullBath         0.234389\n",
       "YearBuilt        0.230227\n",
       "1stFlrSF         0.224476\n",
       "HasFireplace     0.223300\n",
       "Fireplaces       0.218381\n",
       "GarageYrBlt      0.218089\n",
       "YearRemodAdd     0.213907\n",
       "MasVnrArea       0.187499\n",
       "TotRmsAbvGrd     0.187203\n",
       "LotFrontage      0.162804\n",
       "BsmtFinSF1       0.160902\n",
       "BsmtFullBath     0.134110\n",
       "2ndFlrSF         0.131564\n",
       "WoodDeckSF       0.126298\n",
       "LotArea          0.115622\n",
       "HalfBath         0.108760\n",
       "HasGarage        0.106521\n",
       "BedroomAbvGr     0.091647\n",
       "OpenPorchSF      0.064289\n",
       "HasBsmt          0.063468\n",
       "BsmtUnfSF        0.059725\n",
       "Has2ndFloor      0.051744\n",
       "ScreenPorch      0.046841\n",
       "MoSold           0.036548\n",
       "HasPool          0.035872\n",
       "Haspool          0.035872\n",
       "PoolArea         0.030601\n",
       "BsmtFinSF2       0.016142\n",
       "3SsnPorch        0.013647\n",
       "BsmtHalfBath    -0.018617\n",
       "MiscVal         -0.019472\n",
       "LowQualFinSF    -0.021352\n",
       "OverallCond     -0.024620\n",
       "MSSubClass      -0.035359\n",
       "YrSold          -0.047856\n",
       "EnclosedPorch   -0.053951\n",
       "KitchenAbvGr    -0.082730\n",
       "Name: SalePrice, dtype: float64"
      ]
     },
     "execution_count": 349,
     "metadata": {},
     "output_type": "execute_result"
    }
   ],
   "source": [
    "features.corr()['SalePrice'].sort_values(ascending = False)"
   ]
  },
  {
   "cell_type": "code",
   "execution_count": 350,
   "metadata": {},
   "outputs": [
    {
     "data": {
      "text/plain": [
       "(2917, 81)"
      ]
     },
     "execution_count": 350,
     "metadata": {},
     "output_type": "execute_result"
    }
   ],
   "source": [
    "features.shape"
   ]
  },
  {
   "cell_type": "code",
   "execution_count": 351,
   "metadata": {},
   "outputs": [],
   "source": [
    "final_features = pd.get_dummies(features)"
   ]
  },
  {
   "cell_type": "code",
   "execution_count": 352,
   "metadata": {},
   "outputs": [
    {
     "data": {
      "text/plain": [
       "SalePrice      1.000000\n",
       "OverallQual    0.302483\n",
       "GarageCars     0.276725\n",
       "GrLivArea      0.275293\n",
       "GarageArea     0.264268\n",
       "Name: SalePrice, dtype: float64"
      ]
     },
     "execution_count": 352,
     "metadata": {},
     "output_type": "execute_result"
    }
   ],
   "source": [
    "final_features.corr()['SalePrice'].sort_values(ascending = False).head()"
   ]
  },
  {
   "cell_type": "code",
   "execution_count": 353,
   "metadata": {},
   "outputs": [],
   "source": [
    "X = final_features.drop('SalePrice', axis = 1)\n",
    "X = X.iloc[len(y_train):-1]"
   ]
  },
  {
   "cell_type": "code",
   "execution_count": 354,
   "metadata": {},
   "outputs": [],
   "source": [
    "X_train, X_test, y_train, y_test = train_test_split(X,y_train, test_size = 0.2, shuffle = False)"
   ]
  },
  {
   "cell_type": "code",
   "execution_count": 356,
   "metadata": {},
   "outputs": [],
   "source": [
    "lm = LinearRegression()"
   ]
  },
  {
   "cell_type": "code",
   "execution_count": 357,
   "metadata": {},
   "outputs": [
    {
     "data": {
      "text/plain": [
       "LinearRegression(copy_X=True, fit_intercept=True, n_jobs=None,\n",
       "         normalize=False)"
      ]
     },
     "execution_count": 357,
     "metadata": {},
     "output_type": "execute_result"
    }
   ],
   "source": [
    "lm.fit(X_train, y_train)"
   ]
  },
  {
   "cell_type": "code",
   "execution_count": 358,
   "metadata": {},
   "outputs": [],
   "source": [
    "b = float(lm.intercept_)"
   ]
  },
  {
   "cell_type": "code",
   "execution_count": 359,
   "metadata": {},
   "outputs": [],
   "source": [
    "coeff = pd.DataFrame(lm.coef_, X.columns, columns=['Coefficient'])"
   ]
  },
  {
   "cell_type": "code",
   "execution_count": 360,
   "metadata": {},
   "outputs": [
    {
     "data": {
      "text/html": [
       "<div>\n",
       "<style scoped>\n",
       "    .dataframe tbody tr th:only-of-type {\n",
       "        vertical-align: middle;\n",
       "    }\n",
       "\n",
       "    .dataframe tbody tr th {\n",
       "        vertical-align: top;\n",
       "    }\n",
       "\n",
       "    .dataframe thead th {\n",
       "        text-align: right;\n",
       "    }\n",
       "</style>\n",
       "<table border=\"1\" class=\"dataframe\">\n",
       "  <thead>\n",
       "    <tr style=\"text-align: right;\">\n",
       "      <th></th>\n",
       "      <th>Coefficient</th>\n",
       "    </tr>\n",
       "  </thead>\n",
       "  <tbody>\n",
       "    <tr>\n",
       "      <th>TotalBsmtSF</th>\n",
       "      <td>4.993354e+07</td>\n",
       "    </tr>\n",
       "    <tr>\n",
       "      <th>Haspool</th>\n",
       "      <td>3.395787e+05</td>\n",
       "    </tr>\n",
       "    <tr>\n",
       "      <th>CentralAir_Y</th>\n",
       "      <td>2.585833e+05</td>\n",
       "    </tr>\n",
       "    <tr>\n",
       "      <th>CentralAir_N</th>\n",
       "      <td>2.585832e+05</td>\n",
       "    </tr>\n",
       "    <tr>\n",
       "      <th>BsmtExposure_Av</th>\n",
       "      <td>1.646330e+05</td>\n",
       "    </tr>\n",
       "    <tr>\n",
       "      <th>BsmtExposure_No</th>\n",
       "      <td>1.646330e+05</td>\n",
       "    </tr>\n",
       "    <tr>\n",
       "      <th>BsmtExposure_Gd</th>\n",
       "      <td>1.646330e+05</td>\n",
       "    </tr>\n",
       "    <tr>\n",
       "      <th>BsmtExposure_Mn</th>\n",
       "      <td>1.646330e+05</td>\n",
       "    </tr>\n",
       "    <tr>\n",
       "      <th>PavedDrive_Y</th>\n",
       "      <td>1.556431e+05</td>\n",
       "    </tr>\n",
       "    <tr>\n",
       "      <th>PavedDrive_N</th>\n",
       "      <td>1.556430e+05</td>\n",
       "    </tr>\n",
       "    <tr>\n",
       "      <th>PavedDrive_P</th>\n",
       "      <td>1.556429e+05</td>\n",
       "    </tr>\n",
       "    <tr>\n",
       "      <th>BsmtQual_Fa</th>\n",
       "      <td>1.480966e+05</td>\n",
       "    </tr>\n",
       "    <tr>\n",
       "      <th>BsmtQual_TA</th>\n",
       "      <td>1.480966e+05</td>\n",
       "    </tr>\n",
       "    <tr>\n",
       "      <th>BsmtQual_Gd</th>\n",
       "      <td>1.480965e+05</td>\n",
       "    </tr>\n",
       "    <tr>\n",
       "      <th>BsmtQual_Ex</th>\n",
       "      <td>1.480965e+05</td>\n",
       "    </tr>\n",
       "    <tr>\n",
       "      <th>GarageType_CarPort</th>\n",
       "      <td>1.325383e+05</td>\n",
       "    </tr>\n",
       "    <tr>\n",
       "      <th>GarageType_BuiltIn</th>\n",
       "      <td>1.325381e+05</td>\n",
       "    </tr>\n",
       "    <tr>\n",
       "      <th>GarageType_Attchd</th>\n",
       "      <td>1.325380e+05</td>\n",
       "    </tr>\n",
       "    <tr>\n",
       "      <th>GarageType_2Types</th>\n",
       "      <td>1.325380e+05</td>\n",
       "    </tr>\n",
       "    <tr>\n",
       "      <th>GarageType_Detchd</th>\n",
       "      <td>1.325380e+05</td>\n",
       "    </tr>\n",
       "    <tr>\n",
       "      <th>GarageType_Basment</th>\n",
       "      <td>1.325379e+05</td>\n",
       "    </tr>\n",
       "    <tr>\n",
       "      <th>MasVnrType_BrkCmn</th>\n",
       "      <td>9.293249e+04</td>\n",
       "    </tr>\n",
       "    <tr>\n",
       "      <th>MasVnrType_Stone</th>\n",
       "      <td>9.293235e+04</td>\n",
       "    </tr>\n",
       "    <tr>\n",
       "      <th>MasVnrType_None</th>\n",
       "      <td>9.293232e+04</td>\n",
       "    </tr>\n",
       "    <tr>\n",
       "      <th>MasVnrType_BrkFace</th>\n",
       "      <td>9.293231e+04</td>\n",
       "    </tr>\n",
       "    <tr>\n",
       "      <th>GarageFinish_Unf</th>\n",
       "      <td>7.464533e+04</td>\n",
       "    </tr>\n",
       "    <tr>\n",
       "      <th>GarageFinish_Fin</th>\n",
       "      <td>7.464526e+04</td>\n",
       "    </tr>\n",
       "    <tr>\n",
       "      <th>GarageFinish_RFn</th>\n",
       "      <td>7.464526e+04</td>\n",
       "    </tr>\n",
       "    <tr>\n",
       "      <th>HouseStyle_1.5Fin</th>\n",
       "      <td>7.180679e+04</td>\n",
       "    </tr>\n",
       "    <tr>\n",
       "      <th>HouseStyle_SFoyer</th>\n",
       "      <td>7.180674e+04</td>\n",
       "    </tr>\n",
       "    <tr>\n",
       "      <th>...</th>\n",
       "      <td>...</td>\n",
       "    </tr>\n",
       "    <tr>\n",
       "      <th>HeatingQC_Ex</th>\n",
       "      <td>-8.376179e+04</td>\n",
       "    </tr>\n",
       "    <tr>\n",
       "      <th>BsmtFinType1_Unf</th>\n",
       "      <td>-8.601545e+04</td>\n",
       "    </tr>\n",
       "    <tr>\n",
       "      <th>BsmtFinType1_GLQ</th>\n",
       "      <td>-8.601576e+04</td>\n",
       "    </tr>\n",
       "    <tr>\n",
       "      <th>BsmtFinType1_ALQ</th>\n",
       "      <td>-8.601576e+04</td>\n",
       "    </tr>\n",
       "    <tr>\n",
       "      <th>BsmtFinType1_BLQ</th>\n",
       "      <td>-8.601578e+04</td>\n",
       "    </tr>\n",
       "    <tr>\n",
       "      <th>BsmtFinType1_LwQ</th>\n",
       "      <td>-8.601581e+04</td>\n",
       "    </tr>\n",
       "    <tr>\n",
       "      <th>BsmtFinType1_Rec</th>\n",
       "      <td>-8.601585e+04</td>\n",
       "    </tr>\n",
       "    <tr>\n",
       "      <th>LotShape_IR2</th>\n",
       "      <td>-9.384370e+04</td>\n",
       "    </tr>\n",
       "    <tr>\n",
       "      <th>LotShape_IR1</th>\n",
       "      <td>-9.384387e+04</td>\n",
       "    </tr>\n",
       "    <tr>\n",
       "      <th>LotShape_Reg</th>\n",
       "      <td>-9.384388e+04</td>\n",
       "    </tr>\n",
       "    <tr>\n",
       "      <th>LotShape_IR3</th>\n",
       "      <td>-9.384394e+04</td>\n",
       "    </tr>\n",
       "    <tr>\n",
       "      <th>Heating_Floor</th>\n",
       "      <td>-9.428753e+04</td>\n",
       "    </tr>\n",
       "    <tr>\n",
       "      <th>ExterQual_Fa</th>\n",
       "      <td>-9.693112e+04</td>\n",
       "    </tr>\n",
       "    <tr>\n",
       "      <th>ExterQual_TA</th>\n",
       "      <td>-9.693134e+04</td>\n",
       "    </tr>\n",
       "    <tr>\n",
       "      <th>ExterQual_Gd</th>\n",
       "      <td>-9.693139e+04</td>\n",
       "    </tr>\n",
       "    <tr>\n",
       "      <th>ExterQual_Ex</th>\n",
       "      <td>-9.693154e+04</td>\n",
       "    </tr>\n",
       "    <tr>\n",
       "      <th>KitchenQual_Fa</th>\n",
       "      <td>-2.608911e+05</td>\n",
       "    </tr>\n",
       "    <tr>\n",
       "      <th>KitchenQual_Ex</th>\n",
       "      <td>-2.608911e+05</td>\n",
       "    </tr>\n",
       "    <tr>\n",
       "      <th>KitchenQual_Gd</th>\n",
       "      <td>-2.608912e+05</td>\n",
       "    </tr>\n",
       "    <tr>\n",
       "      <th>KitchenQual_TA</th>\n",
       "      <td>-2.608912e+05</td>\n",
       "    </tr>\n",
       "    <tr>\n",
       "      <th>BldgType_2fmCon</th>\n",
       "      <td>-2.667812e+05</td>\n",
       "    </tr>\n",
       "    <tr>\n",
       "      <th>BldgType_Twnhs</th>\n",
       "      <td>-2.667812e+05</td>\n",
       "    </tr>\n",
       "    <tr>\n",
       "      <th>BldgType_Duplex</th>\n",
       "      <td>-2.667813e+05</td>\n",
       "    </tr>\n",
       "    <tr>\n",
       "      <th>BldgType_TwnhsE</th>\n",
       "      <td>-2.667814e+05</td>\n",
       "    </tr>\n",
       "    <tr>\n",
       "      <th>BldgType_1Fam</th>\n",
       "      <td>-2.667814e+05</td>\n",
       "    </tr>\n",
       "    <tr>\n",
       "      <th>Condition2_RRAn</th>\n",
       "      <td>-3.057410e+05</td>\n",
       "    </tr>\n",
       "    <tr>\n",
       "      <th>HasPool</th>\n",
       "      <td>-3.395791e+05</td>\n",
       "    </tr>\n",
       "    <tr>\n",
       "      <th>BsmtFinSF2</th>\n",
       "      <td>-4.993354e+07</td>\n",
       "    </tr>\n",
       "    <tr>\n",
       "      <th>BsmtFinSF1</th>\n",
       "      <td>-4.993354e+07</td>\n",
       "    </tr>\n",
       "    <tr>\n",
       "      <th>BsmtUnfSF</th>\n",
       "      <td>-4.993354e+07</td>\n",
       "    </tr>\n",
       "  </tbody>\n",
       "</table>\n",
       "<p>275 rows × 1 columns</p>\n",
       "</div>"
      ],
      "text/plain": [
       "                     Coefficient\n",
       "TotalBsmtSF         4.993354e+07\n",
       "Haspool             3.395787e+05\n",
       "CentralAir_Y        2.585833e+05\n",
       "CentralAir_N        2.585832e+05\n",
       "BsmtExposure_Av     1.646330e+05\n",
       "BsmtExposure_No     1.646330e+05\n",
       "BsmtExposure_Gd     1.646330e+05\n",
       "BsmtExposure_Mn     1.646330e+05\n",
       "PavedDrive_Y        1.556431e+05\n",
       "PavedDrive_N        1.556430e+05\n",
       "PavedDrive_P        1.556429e+05\n",
       "BsmtQual_Fa         1.480966e+05\n",
       "BsmtQual_TA         1.480966e+05\n",
       "BsmtQual_Gd         1.480965e+05\n",
       "BsmtQual_Ex         1.480965e+05\n",
       "GarageType_CarPort  1.325383e+05\n",
       "GarageType_BuiltIn  1.325381e+05\n",
       "GarageType_Attchd   1.325380e+05\n",
       "GarageType_2Types   1.325380e+05\n",
       "GarageType_Detchd   1.325380e+05\n",
       "GarageType_Basment  1.325379e+05\n",
       "MasVnrType_BrkCmn   9.293249e+04\n",
       "MasVnrType_Stone    9.293235e+04\n",
       "MasVnrType_None     9.293232e+04\n",
       "MasVnrType_BrkFace  9.293231e+04\n",
       "GarageFinish_Unf    7.464533e+04\n",
       "GarageFinish_Fin    7.464526e+04\n",
       "GarageFinish_RFn    7.464526e+04\n",
       "HouseStyle_1.5Fin   7.180679e+04\n",
       "HouseStyle_SFoyer   7.180674e+04\n",
       "...                          ...\n",
       "HeatingQC_Ex       -8.376179e+04\n",
       "BsmtFinType1_Unf   -8.601545e+04\n",
       "BsmtFinType1_GLQ   -8.601576e+04\n",
       "BsmtFinType1_ALQ   -8.601576e+04\n",
       "BsmtFinType1_BLQ   -8.601578e+04\n",
       "BsmtFinType1_LwQ   -8.601581e+04\n",
       "BsmtFinType1_Rec   -8.601585e+04\n",
       "LotShape_IR2       -9.384370e+04\n",
       "LotShape_IR1       -9.384387e+04\n",
       "LotShape_Reg       -9.384388e+04\n",
       "LotShape_IR3       -9.384394e+04\n",
       "Heating_Floor      -9.428753e+04\n",
       "ExterQual_Fa       -9.693112e+04\n",
       "ExterQual_TA       -9.693134e+04\n",
       "ExterQual_Gd       -9.693139e+04\n",
       "ExterQual_Ex       -9.693154e+04\n",
       "KitchenQual_Fa     -2.608911e+05\n",
       "KitchenQual_Ex     -2.608911e+05\n",
       "KitchenQual_Gd     -2.608912e+05\n",
       "KitchenQual_TA     -2.608912e+05\n",
       "BldgType_2fmCon    -2.667812e+05\n",
       "BldgType_Twnhs     -2.667812e+05\n",
       "BldgType_Duplex    -2.667813e+05\n",
       "BldgType_TwnhsE    -2.667814e+05\n",
       "BldgType_1Fam      -2.667814e+05\n",
       "Condition2_RRAn    -3.057410e+05\n",
       "HasPool            -3.395791e+05\n",
       "BsmtFinSF2         -4.993354e+07\n",
       "BsmtFinSF1         -4.993354e+07\n",
       "BsmtUnfSF          -4.993354e+07\n",
       "\n",
       "[275 rows x 1 columns]"
      ]
     },
     "execution_count": 360,
     "metadata": {},
     "output_type": "execute_result"
    }
   ],
   "source": [
    "coeff.sort_values(by = 'Coefficient',ascending = False)"
   ]
  },
  {
   "cell_type": "code",
   "execution_count": 361,
   "metadata": {},
   "outputs": [
    {
     "name": "stdout",
     "output_type": "stream",
     "text": [
      "Training MSE\n",
      "Linear: 0.13002128988736106\n"
     ]
    }
   ],
   "source": [
    "train_lm = lm.predict(X_train)\n",
    "\n",
    "print('Training MSE')\n",
    "print('Linear:', metrics.mean_squared_error(y_train, train_lm))"
   ]
  },
  {
   "cell_type": "code",
   "execution_count": 362,
   "metadata": {},
   "outputs": [
    {
     "name": "stdout",
     "output_type": "stream",
     "text": [
      "Testing MSE\n",
      "Linear: 35098372.865878925\n"
     ]
    }
   ],
   "source": [
    "test_lm = lm.predict(X_test)\n",
    "\n",
    "print('Testing MSE')\n",
    "print('Linear:', metrics.mean_squared_error(y_test, test_lm))"
   ]
  },
  {
   "cell_type": "code",
   "execution_count": 368,
   "metadata": {},
   "outputs": [],
   "source": [
    "from sklearn.linear_model import Ridge\n",
    "from sklearn.linear_model import Lasso"
   ]
  },
  {
   "cell_type": "code",
   "execution_count": 370,
   "metadata": {},
   "outputs": [],
   "source": [
    "ridge = Ridge()\n",
    "lasso = Lasso(alpha=0.01)"
   ]
  },
  {
   "cell_type": "code",
   "execution_count": 371,
   "metadata": {},
   "outputs": [
    {
     "data": {
      "text/plain": [
       "Lasso(alpha=0.01, copy_X=True, fit_intercept=True, max_iter=1000,\n",
       "   normalize=False, positive=False, precompute=False, random_state=None,\n",
       "   selection='cyclic', tol=0.0001, warm_start=False)"
      ]
     },
     "execution_count": 371,
     "metadata": {},
     "output_type": "execute_result"
    }
   ],
   "source": [
    "ridge.fit(X_train, y_train)\n",
    "lasso.fit(X_train, y_train)"
   ]
  },
  {
   "cell_type": "code",
   "execution_count": 366,
   "metadata": {},
   "outputs": [
    {
     "name": "stdout",
     "output_type": "stream",
     "text": [
      "Training MSE\n",
      "Linear: 0.13002128988736106\n",
      "Ridge : 0.1307919644962758\n"
     ]
    }
   ],
   "source": [
    "# check training accuracy\n",
    "train_lm = lm.predict(X_train)\n",
    "train_ridge = ridge.predict(X_train)\n",
    "\n",
    "print('Training MSE')\n",
    "print('Linear:', metrics.mean_squared_error(y_train, train_lm))\n",
    "print('Ridge :', metrics.mean_squared_error(y_train, train_ridge))"
   ]
  },
  {
   "cell_type": "code",
   "execution_count": 367,
   "metadata": {},
   "outputs": [
    {
     "name": "stdout",
     "output_type": "stream",
     "text": [
      "Testing MSE\n",
      "Linear: 35098372.865878925\n",
      "Ridge : 0.17471548307049042\n"
     ]
    }
   ],
   "source": [
    "test_lm = lm.predict(X_test)\n",
    "test_ridge = ridge.predict(X_test)\n",
    "\n",
    "print('Testing MSE')\n",
    "print('Linear:', metrics.mean_squared_error(y_test, test_lm))\n",
    "print('Ridge :', metrics.mean_squared_error(y_test, test_ridge))"
   ]
  },
  {
   "cell_type": "code",
   "execution_count": 373,
   "metadata": {},
   "outputs": [
    {
     "name": "stdout",
     "output_type": "stream",
     "text": [
      "Training MSE\n",
      "Lasso : 0.15718773785788623\n"
     ]
    }
   ],
   "source": [
    "# check training accuracy\n",
    "train_lasso = lasso.predict(X_train)\n",
    "\n",
    "print('Training MSE')\n",
    "print('Lasso :', metrics.mean_squared_error(y_train, train_lasso))"
   ]
  },
  {
   "cell_type": "code",
   "execution_count": 374,
   "metadata": {},
   "outputs": [
    {
     "name": "stdout",
     "output_type": "stream",
     "text": [
      "Testing MSE\n",
      "Lasso : 0.15164721531913367\n"
     ]
    }
   ],
   "source": [
    "test_lasso = lasso.predict(X_test)\n",
    "\n",
    "print('Testing MSE')\n",
    "print('Lasso :', metrics.mean_squared_error(y_test, test_lasso))"
   ]
  },
  {
   "cell_type": "code",
   "execution_count": null,
   "metadata": {},
   "outputs": [],
   "source": []
  }
 ],
 "metadata": {
  "kernelspec": {
   "display_name": "Python 3",
   "language": "python",
   "name": "python3"
  },
  "language_info": {
   "codemirror_mode": {
    "name": "ipython",
    "version": 3
   },
   "file_extension": ".py",
   "mimetype": "text/x-python",
   "name": "python",
   "nbconvert_exporter": "python",
   "pygments_lexer": "ipython3",
   "version": "3.6.8"
  }
 },
 "nbformat": 4,
 "nbformat_minor": 2
}
